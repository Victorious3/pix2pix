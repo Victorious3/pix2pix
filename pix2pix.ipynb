{
  "nbformat": 4,
  "nbformat_minor": 0,
  "metadata": {
    "colab": {
      "name": "Untitled0.ipynb",
      "provenance": [],
      "collapsed_sections": [],
      "include_colab_link": true
    },
    "kernelspec": {
      "name": "python3",
      "display_name": "Python 3"
    }
  },
  "cells": [
    {
      "cell_type": "markdown",
      "metadata": {
        "id": "view-in-github",
        "colab_type": "text"
      },
      "source": [
        "<a href=\"https://colab.research.google.com/github/Victorious3/pix2pix/blob/master/pix2pix.ipynb\" target=\"_parent\"><img src=\"https://colab.research.google.com/assets/colab-badge.svg\" alt=\"Open In Colab\"/></a>"
      ]
    },
    {
      "cell_type": "markdown",
      "metadata": {
        "id": "6CxgcG2pc_Na",
        "colab_type": "text"
      },
      "source": [
        "# Import"
      ]
    },
    {
      "cell_type": "code",
      "metadata": {
        "id": "se3BCxEZhfs0",
        "colab_type": "code",
        "colab": {}
      },
      "source": [
        "import glob\n",
        "import random\n",
        "import os\n",
        "import numpy as np\n",
        "from PIL import Image\n",
        "from torch.utils.data import Dataset\n",
        "import torchvision.transforms as transforms\n",
        "from torch.utils.data import DataLoader"
      ],
      "execution_count": null,
      "outputs": []
    },
    {
      "cell_type": "markdown",
      "metadata": {
        "id": "XK7HNE0phXHH",
        "colab_type": "text"
      },
      "source": [
        "# Dataset"
      ]
    },
    {
      "cell_type": "code",
      "metadata": {
        "id": "OGE4Axzfcv6U",
        "colab_type": "code",
        "colab": {}
      },
      "source": [
        "_URL = 'bash ./datasets/download_pix2pix_dataset.sh facades'\n",
        "\n",
        "class ImageDataset(Dataset):\n",
        "    def __init__(self, args, root, transforms_=None, mode='train'):\n",
        "        self.transform = transforms.Compose(transforms_)\n",
        "        self.args = args\n",
        "        self.files = sorted(glob.glob(os.path.join(root, mode) + '/*.*'))\n",
        "\n",
        "    def __getitem__(self, index):\n",
        "\n",
        "        img = Image.open(self.files[index])\n",
        "        w, h = img.size\n",
        "\n",
        "        if self.args.which_direction == 'AtoB':\n",
        "            img_A = img.crop((0, 0, w/2, h))\n",
        "            img_B = img.crop((w/2, 0, w, h))\n",
        "        else:\n",
        "            img_B = img.crop((0, 0, w/2, h))\n",
        "            img_A = img.crop((w/2, 0, w, h))\n",
        "\n",
        "\n",
        "        if np.random.random() < 0.5:\n",
        "            img_A = Image.fromarray(np.array(img_A)[:, ::-1, :], 'RGB')\n",
        "            img_B = Image.fromarray(np.array(img_B)[:, ::-1, :], 'RGB')\n",
        "\n",
        "        img_A = self.transform(img_A)\n",
        "        img_B = self.transform(img_B)\n",
        "\n",
        "        return {'A': img_A, 'B': img_B}\n",
        "\n",
        "    def __len__(self):\n",
        "        return len(self.files)"
      ],
      "execution_count": null,
      "outputs": []
    },
    {
      "cell_type": "markdown",
      "metadata": {
        "id": "vzIIbKd4hlLS",
        "colab_type": "text"
      },
      "source": [
        "# Loader"
      ]
    },
    {
      "cell_type": "code",
      "metadata": {
        "id": "Nfd769FPhnbQ",
        "colab_type": "code",
        "colab": {}
      },
      "source": [
        "# Configure dataloaders\n",
        "def Get_dataloader(args):\n",
        "    transforms_ = [ transforms.Resize((args.img_height, args.img_width), Image.BICUBIC),\n",
        "                transforms.ToTensor(),\n",
        "                transforms.Normalize((0.5,0.5,0.5), (0.5,0.5,0.5)) ]\n",
        "\n",
        "    train_dataloader = DataLoader(ImageDataset(args, \"%s/%s\" % (args.data_root,args.dataset_name),\n",
        "                        transforms_=transforms_,mode='train'),\n",
        "                        batch_size=args.batch_size, shuffle=True, num_workers=args.n_cpu, drop_last=True)\n",
        "\n",
        "    test_dataloader = DataLoader(ImageDataset(args, \"%s/%s\" % (args.data_root,args.dataset_name),\n",
        "                            transforms_=transforms_, mode='test'),\n",
        "                            batch_size=10, shuffle=True, num_workers=1, drop_last=True)\n",
        "\n",
        "    val_dataloader = DataLoader(ImageDataset(args, \"%s/%s\" % (args.data_root,args.dataset_name),\n",
        "                            transforms_=transforms_, mode='val'),\n",
        "                            batch_size=10, shuffle=True, num_workers=1, drop_last=True)\n",
        "\n",
        "    return train_dataloader, test_dataloader, val_dataloader"
      ],
      "execution_count": null,
      "outputs": []
    },
    {
      "cell_type": "markdown",
      "metadata": {
        "id": "AXR3F5mshoBS",
        "colab_type": "text"
      },
      "source": [
        "# Randomize"
      ]
    },
    {
      "cell_type": "code",
      "metadata": {
        "id": "ExoyMJFchp44",
        "colab_type": "code",
        "colab": {}
      },
      "source": [
        ""
      ],
      "execution_count": null,
      "outputs": []
    },
    {
      "cell_type": "markdown",
      "metadata": {
        "id": "QEJq2x0VeIRp",
        "colab_type": "text"
      },
      "source": [
        "# Optimizer"
      ]
    },
    {
      "cell_type": "code",
      "metadata": {
        "id": "3K82tvsCeM0g",
        "colab_type": "code",
        "colab": {}
      },
      "source": [
        "import torch\n",
        "# Adam Optimizers\n",
        "def Get_optimizer_func(args, generator, discriminator):\n",
        "    ArgLr = args.lr\n",
        "    ArgB1 = args.b1\n",
        "    ArgB2 = args.b2\n",
        "\n",
        "    optimizer_G = torch.optim.Adam(\n",
        "                    generator.parameters(),\n",
        "                    lr=ArgLr, betas=(ArgB1, ArgB2))\n",
        "    optimizer_D = torch.optim.Adam(\n",
        "                    discriminator.parameters(),\n",
        "                    lr=ArgLr, betas=(ArgB1, ArgB2))\n",
        "    \n",
        "    return optimizer_G, optimizer_D\n",
        "\n",
        "# Loss functions\n",
        "def Get_loss_func(args):\n",
        "    crit_GAN = torch.nn.BCELoss()\n",
        "    crit_pixelwise = torch.nn.L1Loss()\n",
        "    if torch.cuda.is_available():\n",
        "        crit_GAN.cuda()\n",
        "        crit_pixelwise.cuda()\n",
        "    return crit_GAN, crit_pixelwise"
      ],
      "execution_count": null,
      "outputs": []
    },
    {
      "cell_type": "markdown",
      "metadata": {
        "id": "O6j4OX-beZc0",
        "colab_type": "text"
      },
      "source": [
        "# Discriminator"
      ]
    },
    {
      "cell_type": "code",
      "metadata": {
        "id": "s9_oNIJMecqV",
        "colab_type": "code",
        "colab": {}
      },
      "source": [
        "import torch.nn as nn\n",
        "import torch\n",
        "\n",
        "class Discriminator(nn.Module):\n",
        "    def __init__(self, in_channels):\n",
        "        super().__init__()\n",
        "        self.layer1 = nn.Sequential(\n",
        "            nn.Conv2d(in_channels * 2, 64, kernel_size=4, stride=2, padding=1),\n",
        "            nn.LeakyReLU(0.2, inplace=True)\n",
        "        )\n",
        "        self.layer2 = nn.Sequential(\n",
        "            nn.Conv2d(64, 128, kernel_size=4, stride=2, padding=1),\n",
        "            nn.BatchNorm2d(128),\n",
        "            nn.LeakyReLU(0.2, inplace=True)\n",
        "        )\n",
        "        self.layer3 = nn.Sequential(\n",
        "            nn.Conv2d(128, 256, kernel_size=4, stride=2, padding=1),\n",
        "            nn.BatchNorm2d(256),\n",
        "            nn.LeakyReLU(0.2, inplace=True)\n",
        "        )\n",
        "        self.layer4 = nn.Sequential(\n",
        "            nn.Conv2d(256, 512, kernel_size=4, stride=2, padding=1),\n",
        "            nn.BatchNorm2d(512),\n",
        "            nn.LeakyReLU(0.2, inplace=True)\n",
        "        )\n",
        "        self.layer5 = nn.Sequential(\n",
        "            nn.Conv2d(512, 512, kernel_size=4, stride=1, padding=1),\n",
        "            nn.BatchNorm2d(512),\n",
        "            nn.LeakyReLU(0.2, inplace=True)\n",
        "        )\n",
        "        self.out = nn.Sequential(\n",
        "            nn.Conv2d(512, 1, kernel_size=4, stride=1, padding=1),\n",
        "            nn.LeakyReLU(0.2, inplace=True),\n",
        "            nn.Sigmoid()\n",
        "        )\n",
        "\n",
        "    def forward(self, img_a, img_b):\n",
        "        input_img = torch.cat((img_a, img_b), 1)\n",
        "        x = self.layer1(input_img)\n",
        "        x = self.layer2(x)\n",
        "        x = self.layer3(x)\n",
        "        x = self.layer4(x)\n",
        "        x = self.layer5(x)\n",
        "        x = self.out(x)\n",
        "        return x\n",
        "    "
      ],
      "execution_count": null,
      "outputs": []
    },
    {
      "cell_type": "markdown",
      "metadata": {
        "id": "mjeJWq0jeimR",
        "colab_type": "text"
      },
      "source": [
        "# Generator\n",
        "- UNet\n",
        "- Generator\n",
        "- Initialize"
      ]
    },
    {
      "cell_type": "code",
      "metadata": {
        "id": "5yT1pP4mepx-",
        "colab_type": "code",
        "colab": {}
      },
      "source": [
        "class UNetDown(nn.Module):\n",
        "    def __init__(self, in_size, out_size, normalize=True, dropout=0.0):\n",
        "        super(UNetDown, self).__init__()\n",
        "        layers = [nn.Conv2d(in_size, out_size, 4, 2, 1, bias=False)]\n",
        "        if normalize:\n",
        "            layers.append(nn.InstanceNorm2d(out_size))\n",
        "        layers.append(nn.LeakyReLU(0.2))\n",
        "        if dropout:\n",
        "            layers.append(nn.Dropout(dropout))\n",
        "        self.model = nn.Sequential(*layers)\n",
        "\n",
        "    def forward(self, x):\n",
        "        return self.model(x)\n",
        "\n",
        "class UNetUp(nn.Module):\n",
        "    def __init__(self, in_size, out_size, dropout=0.0):\n",
        "        super(UNetUp, self).__init__()\n",
        "        layers = [  nn.ConvTranspose2d(in_size, out_size, 4, 2, 1, bias=False),\n",
        "                    nn.InstanceNorm2d(out_size),\n",
        "                    nn.ReLU(inplace=True)]\n",
        "        if dropout:\n",
        "            layers.append(nn.Dropout(dropout))\n",
        "\n",
        "        self.model = nn.Sequential(*layers)\n",
        "\n",
        "    def forward(self, x, skip_input):\n",
        "        x = self.model(x)\n",
        "        x = torch.cat((x, skip_input), 1)\n",
        "\n",
        "        return x\n",
        "\n",
        "class GeneratorUNet(nn.Module):\n",
        "    def __init__(self, in_channels=3, out_channels=3):\n",
        "        super(GeneratorUNet, self).__init__()\n",
        "\n",
        "        self.down1 = UNetDown(in_channels, 64, normalize=False)\n",
        "        self.down2 = UNetDown(64, 128)\n",
        "        self.down3 = UNetDown(128, 256)\n",
        "        self.down4 = UNetDown(256, 512, dropout=0.5)\n",
        "        self.down5 = UNetDown(512, 512, dropout=0.5)\n",
        "        self.down6 = UNetDown(512, 512, dropout=0.5)\n",
        "        self.down7 = UNetDown(512, 512, dropout=0.5)\n",
        "        self.down8 = UNetDown(512, 512, normalize=False, dropout=0.5)\n",
        "\n",
        "        self.up1 = UNetUp(512, 512, dropout=0.5)\n",
        "        self.up2 = UNetUp(1024, 512, dropout=0.5)\n",
        "        self.up3 = UNetUp(1024, 512, dropout=0.5)\n",
        "        self.up4 = UNetUp(1024, 512, dropout=0.5)\n",
        "        self.up5 = UNetUp(1024, 256)\n",
        "        self.up6 = UNetUp(512, 128)\n",
        "        self.up7 = UNetUp(256, 64)\n",
        "\n",
        "        self.up8 = nn.Sequential(\n",
        "            nn.ConvTranspose2d(128, out_channels, 4, 2, 1),\n",
        "            nn.Tanh()\n",
        "        )\n",
        "        \n",
        "    def forward(self, x):\n",
        "        # U-Net generator with skip connections from encoder to decoder\n",
        "        d1 = self.down1(x)\n",
        "        d2 = self.down2(d1)\n",
        "        d3 = self.down3(d2)\n",
        "        d4 = self.down4(d3)\n",
        "        d5 = self.down5(d4)\n",
        "        d6 = self.down6(d5)\n",
        "        d7 = self.down7(d6)\n",
        "        d8 = self.down8(d7)\n",
        "        u1 = self.up1(d8, d7)\n",
        "        u2 = self.up2(u1, d6)\n",
        "        u3 = self.up3(u2, d5)\n",
        "        u4 = self.up4(u3, d4)\n",
        "        u5 = self.up5(u4, d3)\n",
        "        u6 = self.up6(u5, d2)\n",
        "        u7 = self.up7(u6, d1)\n",
        "\n",
        "        return self.up8(u7)\n",
        "\n",
        "\n",
        "def weights_init_normal(m):\n",
        "    classname = m.__class__.__name__\n",
        "    if classname.find('Conv') != -1:\n",
        "        torch.nn.init.normal(m.weight.data, 0.0, 0.02)\n",
        "    elif classname.find('BatchNorm2d') != -1:\n",
        "        torch.nn.init.normal(m.weight.data, 1.0, 0.02)\n",
        "        torch.nn.init.constant(m.bias.data, 0.0)\n",
        "\n",
        "def Create_nets(args):\n",
        "    generator = GeneratorUNet(args.in_channels, args.out_channels)\n",
        "    discriminator = Discriminator(args.out_channels)\n",
        "\n",
        "    if torch.cuda.is_available():\n",
        "        generator = generator.cuda()\n",
        "        discriminator = discriminator.cuda()\n",
        "\n",
        "    # Initialize weights\n",
        "    generator.apply(weights_init_normal)\n",
        "    discriminator.apply(weights_init_normal)\n",
        "\n",
        "    return generator, discriminator        "
      ],
      "execution_count": null,
      "outputs": []
    },
    {
      "cell_type": "markdown",
      "metadata": {
        "id": "WXMeSWc6hqIj",
        "colab_type": "text"
      },
      "source": [
        "# Training"
      ]
    },
    {
      "cell_type": "code",
      "metadata": {
        "id": "n9ScBsYQh4Pa",
        "colab_type": "code",
        "colab": {}
      },
      "source": [
        ""
      ],
      "execution_count": null,
      "outputs": []
    },
    {
      "cell_type": "markdown",
      "metadata": {
        "id": "tGfni5psh4nn",
        "colab_type": "text"
      },
      "source": [
        "# Testing"
      ]
    },
    {
      "cell_type": "code",
      "metadata": {
        "id": "bdfCuAXMfMCs",
        "colab_type": "code",
        "colab": {}
      },
      "source": [
        ""
      ],
      "execution_count": null,
      "outputs": []
    }
  ]
}