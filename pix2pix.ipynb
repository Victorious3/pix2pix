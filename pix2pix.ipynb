{
  "nbformat": 4,
  "nbformat_minor": 0,
  "metadata": {
    "colab": {
      "name": "Untitled0.ipynb",
      "provenance": [],
      "collapsed_sections": [],
      "include_colab_link": true
    },
    "kernelspec": {
      "name": "python3",
      "display_name": "Python 3"
    }
  },
  "cells": [
    {
      "cell_type": "markdown",
      "metadata": {
        "id": "view-in-github",
        "colab_type": "text"
      },
      "source": [
        "<a href=\"https://colab.research.google.com/github/Victorious3/pix2pix/blob/master/pix2pix.ipynb\" target=\"_parent\"><img src=\"https://colab.research.google.com/assets/colab-badge.svg\" alt=\"Open In Colab\"/></a>"
      ]
    },
    {
      "cell_type": "markdown",
      "metadata": {
        "id": "6CxgcG2pc_Na",
        "colab_type": "text"
      },
      "source": [
        "# Import"
      ]
    },
    {
      "cell_type": "code",
      "metadata": {
        "id": "se3BCxEZhfs0",
        "colab_type": "code",
        "colab": {}
      },
      "source": [
        "import glob\n",
        "import random\n",
        "import os\n",
        "import numpy as np\n",
        "from PIL import Image\n",
        "from torch.utils.data import Dataset\n",
        "import torchvision.transforms as transforms\n",
        "from torch.utils.data import DataLoader"
      ],
      "execution_count": null,
      "outputs": []
    },
    {
      "cell_type": "markdown",
      "metadata": {
        "id": "XK7HNE0phXHH",
        "colab_type": "text"
      },
      "source": [
        "# Dataset"
      ]
    },
    {
      "cell_type": "code",
      "metadata": {
        "id": "OGE4Axzfcv6U",
        "colab_type": "code",
        "colab": {}
      },
      "source": [
        "_URL = 'bash ./datasets/download_pix2pix_dataset.sh facades'\n",
        "\n",
        "class ImageDataset(Dataset):\n",
        "    def __init__(self, args, root, transforms_=None, mode='train'):\n",
        "        self.transform = transforms.Compose(transforms_)\n",
        "        self.args = args\n",
        "        self.files = sorted(glob.glob(os.path.join(root, mode) + '/*.*'))\n",
        "\n",
        "    def __getitem__(self, index):\n",
        "\n",
        "        img = Image.open(self.files[index])\n",
        "        w, h = img.size\n",
        "\n",
        "        if self.args.which_direction == 'AtoB':\n",
        "            img_A = img.crop((0, 0, w/2, h))\n",
        "            img_B = img.crop((w/2, 0, w, h))\n",
        "        else:\n",
        "            img_B = img.crop((0, 0, w/2, h))\n",
        "            img_A = img.crop((w/2, 0, w, h))\n",
        "\n",
        "\n",
        "        if np.random.random() < 0.5:\n",
        "            img_A = Image.fromarray(np.array(img_A)[:, ::-1, :], 'RGB')\n",
        "            img_B = Image.fromarray(np.array(img_B)[:, ::-1, :], 'RGB')\n",
        "\n",
        "        img_A = self.transform(img_A)\n",
        "        img_B = self.transform(img_B)\n",
        "\n",
        "        return {'A': img_A, 'B': img_B}\n",
        "\n",
        "    def __len__(self):\n",
        "        return len(self.files)"
      ],
      "execution_count": null,
      "outputs": []
    },
    {
      "cell_type": "markdown",
      "metadata": {
        "id": "vzIIbKd4hlLS",
        "colab_type": "text"
      },
      "source": [
        "# Loader"
      ]
    },
    {
      "cell_type": "code",
      "metadata": {
        "id": "Nfd769FPhnbQ",
        "colab_type": "code",
        "colab": {}
      },
      "source": [
        "# Configure dataloaders\n",
        "def Get_dataloader(args):\n",
        "    transforms_ = [ transforms.Resize((args.img_height, args.img_width), Image.BICUBIC),\n",
        "                transforms.ToTensor(),\n",
        "                transforms.Normalize((0.5,0.5,0.5), (0.5,0.5,0.5)) ]\n",
        "\n",
        "    train_dataloader = DataLoader(ImageDataset(args, \"%s/%s\" % (args.data_root,args.dataset_name),\n",
        "                        transforms_=transforms_,mode='train'),\n",
        "                        batch_size=args.batch_size, shuffle=True, num_workers=args.n_cpu, drop_last=True)\n",
        "\n",
        "    test_dataloader = DataLoader(ImageDataset(args, \"%s/%s\" % (args.data_root,args.dataset_name),\n",
        "                            transforms_=transforms_, mode='test'),\n",
        "                            batch_size=10, shuffle=True, num_workers=1, drop_last=True)\n",
        "\n",
        "    val_dataloader = DataLoader(ImageDataset(args, \"%s/%s\" % (args.data_root,args.dataset_name),\n",
        "                            transforms_=transforms_, mode='val'),\n",
        "                            batch_size=10, shuffle=True, num_workers=1, drop_last=True)\n",
        "\n",
        "    return train_dataloader, test_dataloader, val_dataloader"
      ],
      "execution_count": null,
      "outputs": []
    },
    {
      "cell_type": "markdown",
      "metadata": {
        "id": "QEJq2x0VeIRp",
        "colab_type": "text"
      },
      "source": [
        "# Optimizer"
      ]
    },
    {
      "cell_type": "code",
      "metadata": {
        "id": "3K82tvsCeM0g",
        "colab_type": "code",
        "colab": {}
      },
      "source": [
        "import torch\n",
        "# Adam Optimizers\n",
        "def Get_optimizer_func(args, generator, discriminator):\n",
        "    ArgLr = args.lr\n",
        "    ArgB1 = args.b1\n",
        "    ArgB2 = args.b2\n",
        "\n",
        "    optimizer_G = torch.optim.Adam(\n",
        "                    generator.parameters(),\n",
        "                    lr=ArgLr, betas=(ArgB1, ArgB2))\n",
        "    optimizer_D = torch.optim.Adam(\n",
        "                    discriminator.parameters(),\n",
        "                    lr=ArgLr, betas=(ArgB1, ArgB2))\n",
        "    \n",
        "    return optimizer_G, optimizer_D\n",
        "\n",
        "# Loss functions\n",
        "def Get_loss_func(args):\n",
        "    crit_GAN = torch.nn.BCELoss()\n",
        "    crit_pixelwise = torch.nn.L1Loss()\n",
        "    if torch.cuda.is_available():\n",
        "        crit_GAN.cuda()\n",
        "        crit_pixelwise.cuda()\n",
        "    return crit_GAN, crit_pixelwise"
      ],
      "execution_count": null,
      "outputs": []
    },
    {
      "cell_type": "markdown",
      "metadata": {
        "id": "O6j4OX-beZc0",
        "colab_type": "text"
      },
      "source": [
        "# Discriminator"
      ]
    },
    {
      "cell_type": "code",
      "metadata": {
        "id": "s9_oNIJMecqV",
        "colab_type": "code",
        "colab": {}
      },
      "source": [
        "import torch.nn as nn\n",
        "import torch\n",
        "\n",
        "class Discriminator(nn.Module):\n",
        "    def __init__(self, in_channels):\n",
        "        super().__init__()\n",
        "        self.layer1 = nn.Sequential(\n",
        "            nn.Conv2d(in_channels * 2, 64, kernel_size=4, stride=2, padding=1),\n",
        "            nn.LeakyReLU(0.2, inplace=True)\n",
        "        )\n",
        "        self.layer2 = nn.Sequential(\n",
        "            nn.Conv2d(64, 128, kernel_size=4, stride=2, padding=1),\n",
        "            nn.BatchNorm2d(128),\n",
        "            nn.LeakyReLU(0.2, inplace=True)\n",
        "        )\n",
        "        self.layer3 = nn.Sequential(\n",
        "            nn.Conv2d(128, 256, kernel_size=4, stride=2, padding=1),\n",
        "            nn.BatchNorm2d(256),\n",
        "            nn.LeakyReLU(0.2, inplace=True)\n",
        "        )\n",
        "        self.layer4 = nn.Sequential(\n",
        "            nn.Conv2d(256, 512, kernel_size=4, stride=2, padding=1),\n",
        "            nn.BatchNorm2d(512),\n",
        "            nn.LeakyReLU(0.2, inplace=True)\n",
        "        )\n",
        "        self.layer5 = nn.Sequential(\n",
        "            nn.Conv2d(512, 512, kernel_size=4, stride=1, padding=1),\n",
        "            nn.BatchNorm2d(512),\n",
        "            nn.LeakyReLU(0.2, inplace=True)\n",
        "        )\n",
        "        self.out = nn.Sequential(\n",
        "            nn.Conv2d(512, 1, kernel_size=4, stride=1, padding=1),\n",
        "            nn.LeakyReLU(0.2, inplace=True),\n",
        "            nn.Sigmoid()\n",
        "        )\n",
        "\n",
        "    def forward(self, img_a, img_b):\n",
        "        input_img = torch.cat((img_a, img_b), 1)\n",
        "        x = self.layer1(input_img)\n",
        "        x = self.layer2(x)\n",
        "        x = self.layer3(x)\n",
        "        x = self.layer4(x)\n",
        "        x = self.layer5(x)\n",
        "        x = self.out(x)\n",
        "        return x\n",
        "    "
      ],
      "execution_count": null,
      "outputs": []
    },
    {
      "cell_type": "markdown",
      "metadata": {
        "id": "mjeJWq0jeimR",
        "colab_type": "text"
      },
      "source": [
        "# Generator\n",
        "- UNet\n",
        "- Generator\n",
        "- Initialize"
      ]
    },
    {
      "cell_type": "code",
      "metadata": {
        "id": "5yT1pP4mepx-",
        "colab_type": "code",
        "colab": {}
      },
      "source": [
        "class UNetDown(nn.Module):\n",
        "    def __init__(self, in_size, out_size, normalize=True, dropout=0.0):\n",
        "        super(UNetDown, self).__init__()\n",
        "        layers = [nn.Conv2d(in_size, out_size, 4, 2, 1, bias=False)]\n",
        "        if normalize:\n",
        "            layers.append(nn.InstanceNorm2d(out_size))\n",
        "        layers.append(nn.LeakyReLU(0.2))\n",
        "        if dropout:\n",
        "            layers.append(nn.Dropout(dropout))\n",
        "        self.model = nn.Sequential(*layers)\n",
        "\n",
        "    def forward(self, x):\n",
        "        return self.model(x)\n",
        "\n",
        "class UNetUp(nn.Module):\n",
        "    def __init__(self, in_size, out_size, dropout=0.0):\n",
        "        super(UNetUp, self).__init__()\n",
        "        layers = [  nn.ConvTranspose2d(in_size, out_size, 4, 2, 1, bias=False),\n",
        "                    nn.InstanceNorm2d(out_size),\n",
        "                    nn.ReLU(inplace=True)]\n",
        "        if dropout:\n",
        "            layers.append(nn.Dropout(dropout))\n",
        "\n",
        "        self.model = nn.Sequential(*layers)\n",
        "\n",
        "    def forward(self, x, skip_input):\n",
        "        x = self.model(x)\n",
        "        x = torch.cat((x, skip_input), 1)\n",
        "\n",
        "        return x\n",
        "\n",
        "class GeneratorUNet(nn.Module):\n",
        "    def __init__(self, in_channels=3, out_channels=3):\n",
        "        super(GeneratorUNet, self).__init__()\n",
        "\n",
        "        self.down1 = UNetDown(in_channels, 64, normalize=False)\n",
        "        self.down2 = UNetDown(64, 128)\n",
        "        self.down3 = UNetDown(128, 256)\n",
        "        self.down4 = UNetDown(256, 512, dropout=0.5)\n",
        "        self.down5 = UNetDown(512, 512, dropout=0.5)\n",
        "        self.down6 = UNetDown(512, 512, dropout=0.5)\n",
        "        self.down7 = UNetDown(512, 512, dropout=0.5)\n",
        "        self.down8 = UNetDown(512, 512, normalize=False, dropout=0.5)\n",
        "\n",
        "        self.up1 = UNetUp(512, 512, dropout=0.5)\n",
        "        self.up2 = UNetUp(1024, 512, dropout=0.5)\n",
        "        self.up3 = UNetUp(1024, 512, dropout=0.5)\n",
        "        self.up4 = UNetUp(1024, 512, dropout=0.5)\n",
        "        self.up5 = UNetUp(1024, 256)\n",
        "        self.up6 = UNetUp(512, 128)\n",
        "        self.up7 = UNetUp(256, 64)\n",
        "\n",
        "        self.up8 = nn.Sequential(\n",
        "            nn.ConvTranspose2d(128, out_channels, 4, 2, 1),\n",
        "            nn.Tanh()\n",
        "        )\n",
        "        \n",
        "    def forward(self, x):\n",
        "        # U-Net generator with skip connections from encoder to decoder\n",
        "        d1 = self.down1(x)\n",
        "        d2 = self.down2(d1)\n",
        "        d3 = self.down3(d2)\n",
        "        d4 = self.down4(d3)\n",
        "        d5 = self.down5(d4)\n",
        "        d6 = self.down6(d5)\n",
        "        d7 = self.down7(d6)\n",
        "        d8 = self.down8(d7)\n",
        "        u1 = self.up1(d8, d7)\n",
        "        u2 = self.up2(u1, d6)\n",
        "        u3 = self.up3(u2, d5)\n",
        "        u4 = self.up4(u3, d4)\n",
        "        u5 = self.up5(u4, d3)\n",
        "        u6 = self.up6(u5, d2)\n",
        "        u7 = self.up7(u6, d1)\n",
        "\n",
        "        return self.up8(u7)\n",
        "\n",
        "\n",
        "def weights_init_normal(m):\n",
        "    classname = m.__class__.__name__\n",
        "    if classname.find('Conv') != -1:\n",
        "        torch.nn.init.normal(m.weight.data, 0.0, 0.02)\n",
        "    elif classname.find('BatchNorm2d') != -1:\n",
        "        torch.nn.init.normal(m.weight.data, 1.0, 0.02)\n",
        "        torch.nn.init.constant(m.bias.data, 0.0)\n",
        "\n",
        "def Create_nets(args):\n",
        "    generator = GeneratorUNet(args.in_channels, args.out_channels)\n",
        "    discriminator = Discriminator(args.out_channels)\n",
        "\n",
        "    if torch.cuda.is_available():\n",
        "        generator = generator.cuda()\n",
        "        discriminator = discriminator.cuda()\n",
        "\n",
        "    # Initialize weights\n",
        "    generator.apply(weights_init_normal)\n",
        "    discriminator.apply(weights_init_normal)\n",
        "\n",
        "    return generator, discriminator        "
      ],
      "execution_count": null,
      "outputs": []
    },
    {
      "cell_type": "markdown",
      "metadata": {
        "id": "tGfni5psh4nn",
        "colab_type": "text"
      },
      "source": [
        "# Sample"
      ]
    },
    {
      "cell_type": "code",
      "metadata": {
        "id": "n9ScBsYQh4Pa",
        "colab_type": "code",
        "colab": {}
      },
      "source": [
        "import argparse\n",
        "import torch\n",
        "import time\n",
        "import numpy as np\n",
        "import datetime\n",
        "import sys\n",
        "\n",
        "from torch.autograd import Variable\n",
        "from torchvision.utils import save_image\n",
        "\n",
        "from models import Create_nets\n",
        "from datasets import Get_dataloader\n",
        "from optimizer import Get_loss_func, Get_optimizer_func\n",
        "\n",
        "def sample_images(generator, test_dataloader, args, epoch, batches_done):\n",
        "    \"\"\"Saves a generated sample from the validation set\"\"\"\n",
        "\n",
        "    imgs = next(iter(test_dataloader))\n",
        "    real_A = Variable(imgs['A'].type(torch.FloatTensor).cuda())\n",
        "    real_B = Variable(imgs['B'].type(torch.FloatTensor).cuda())\n",
        "    fake_B = generator(real_A)\n",
        "    img_sample = torch.cat((real_A.data, fake_B.data, real_B.data), -2)\n",
        "    save_image(img_sample, '%s/%s/%s-%s.png' % (args.dataset_name, args.img_result_dir, batches_done, epoch), nrow=5, normalize=True)\n",
        "\n",
        "if __name__ == \"__main__\":\n",
        "\n",
        "    parser = argparse.ArgumentParser(description=\"Pix2Pix\")\n",
        "\n",
        "    parser.add_argument('--epoch_start', type=int, default=0, help='epoch to start training from')\n",
        "    parser.add_argument('--epoch_num', type=int, default=200, help='number of epochs of training')\n",
        "    parser.add_argument('--data_root', type=str, default='../../data/', help='dir of the dataset')\n",
        "    parser.add_argument('--dataset_name', type=str, default=\"facades\", help='name of the dataset')\n",
        "    parser.add_argument('--batch_size', type=int, default=1, help='size of the batches')\n",
        "    parser.add_argument('--img_height', type=int, default=256, help='size of image height')\n",
        "    parser.add_argument('--img_width', type=int, default=256, help='size of image width')\n",
        "    parser.add_argument('--in_channels', type=int, default=3, help='number of input image channels')\n",
        "    parser.add_argument('--out_channels', type=int, default=3, help='number of output image channels')\n",
        "    parser.add_argument('--sample_interval', type=int, default=200, help='interval between sampling of images from generators')\n",
        "    parser.add_argument('--which_direction', type=str, default='AtoB', help='AtoB or BtoA')\n",
        "    parser.add_argument('--lambda_pixel', type=int, default=100, help='Loss weight of L1 pixel-wise loss between translated image and real image')\n",
        "    parser.add_argument('--img_result_dir', type=str, default='result_images', help='where to save the result images')\n",
        "\n",
        "    args = parser.parse_args()\n",
        "\n",
        "    # Initialize generator and discriminator\n",
        "    generator, discriminator = Create_nets(args)\n",
        "    # Loss functions\n",
        "    criterion_GAN, criterion_pixelwise = Get_loss_func(args)\n",
        "    # Optimizers\n",
        "    optimizer_G, optimizer_D = Get_optimizer_func(args, generator, discriminator)\n",
        "\n",
        "    # Configure dataloaders\n",
        "    train_dataloader, test_dataloader, _ = Get_dataloader(args)"
      ],
      "execution_count": null,
      "outputs": []
    },
    {
      "cell_type": "markdown",
      "metadata": {
        "id": "WXMeSWc6hqIj",
        "colab_type": "text"
      },
      "source": [
        "# Training"
      ]
    },
    {
      "cell_type": "code",
      "metadata": {
        "id": "bdfCuAXMfMCs",
        "colab_type": "code",
        "colab": {}
      },
      "source": [
        "    prev_time = time.time()\n",
        "    for epoch in range(args.epoch_start, args.epoch_num):\n",
        "        for i, batch in enumerate(train_dataloader):\n",
        "\n",
        "            # Model inputs\n",
        "            real_A = Variable(batch['A'].type(torch.FloatTensor).cuda())\n",
        "            real_B = Variable(batch['B'].type(torch.FloatTensor).cuda())\n",
        "\n",
        "            # Adversarial ground truths\n",
        "            valid = Variable(torch.FloatTensor(np.ones((real_A.size(0), 1, 6, 6))).cuda(), requires_grad=False)\n",
        "            fake = Variable(torch.FloatTensor(np.zeros((real_A.size(0), 1, 6, 6))).cuda(), requires_grad=False)\n",
        "\n",
        "            # ------------------\n",
        "            #  Train Generators\n",
        "            # ------------------\n",
        "            optimizer_G.zero_grad()\n",
        "\n",
        "            #loss\n",
        "            fake_B = generator(real_A)\n",
        "            pred_fake = discriminator(fake_B, real_A)\n",
        "            loss_GAN = criterion_GAN(pred_fake, valid)\n",
        "            # Pixel-wise loss\n",
        "            loss_pixel = criterion_pixelwise(fake_B, real_B)\n",
        "\n",
        "            # Total loss\n",
        "            loss_G = loss_GAN + args.lambda_pixel * loss_pixel\n",
        "            loss_G.backward()\n",
        "            optimizer_G.step()\n",
        "\n",
        "            # ---------------------\n",
        "            #  Train Discriminator\n",
        "            # ---------------------\n",
        "            optimizer_D.zero_grad()\n",
        "            # Real loss\n",
        "            pred_real = discriminator(real_B, real_A)\n",
        "            loss_real = criterion_GAN(pred_real, valid)\n",
        "\n",
        "            # Fake loss\n",
        "            pred_fake = discriminator(fake_B.detach(), real_A)\n",
        "            loss_fake = criterion_GAN(pred_fake, fake)\n",
        "\n",
        "            # Total loss\n",
        "            loss_D = 0.5 * (loss_real + loss_fake)\n",
        "            loss_D.backward()\n",
        "            optimizer_D.step()\n",
        "\n",
        "            # --------------\n",
        "            #  Log Progress\n",
        "            # --------------\n",
        "            # Determine approximate time left\n",
        "            batches_done = epoch * len(train_dataloader) + i\n",
        "            batches_left = args.epoch_num * len(train_dataloader) - batches_done\n",
        "            time_left = datetime.timedelta(seconds=batches_left * (time.time() - prev_time))\n",
        "            prev_time = time.time()\n",
        "\n",
        "            # Print log\n",
        "            sys.stdout.write(\"\\r[Epoch%d/%d] - [Batch%d/%d] - [Dloss:%f] - [Gloss:%f, loss_pixel:%f, adv:%f] ETA:%s\" %\n",
        "                (epoch + 1, args.epoch_num,\n",
        "                i, len(train_dataloader),\n",
        "                loss_D.data.cpu(), loss_G.data.cpu(),\n",
        "                loss_pixel.data.cpu(), loss_GAN.data.cpu(),\n",
        "                time_left))\n",
        "\n",
        "            # If at sample interval save image\n",
        "            if batches_done % args.sample_interval == 0:\n",
        "                sample_images(generator, test_dataloader, args, epoch, batches_done)"
      ],
      "execution_count": null,
      "outputs": []
    }
  ]
}